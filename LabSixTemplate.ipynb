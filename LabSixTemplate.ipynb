{
 "cells": [
  {
   "cell_type": "markdown",
   "id": "7ad9756e",
   "metadata": {},
   "source": [
    "# MANE 3351\n",
    "## Fall 2023\n",
    "## Lab Six\n",
    "### Hector Serna"
   ]
  },
  {
   "cell_type": "code",
   "execution_count": null,
   "id": "1821927f",
   "metadata": {},
   "outputs": [],
   "source": [
    "# Step 2 - define function below this line\n",
    "\n",
    "\n",
    "# Step 3 - enter code to input values for x, mu, and sigma below this line\n",
    "\n",
    "\n",
    "# Step 4 - enter code to call your function and store the result in variable F. Print the value of variable F\n"
   ]
  }
 ],
 "metadata": {
  "kernelspec": {
   "display_name": "Python 3 (ipykernel)",
   "language": "python",
   "name": "python3"
  },
  "language_info": {
   "codemirror_mode": {
    "name": "ipython",
    "version": 3
   },
   "file_extension": ".py",
   "mimetype": "text/x-python",
   "name": "python",
   "nbconvert_exporter": "python",
   "pygments_lexer": "ipython3",
   "version": "3.12.4"
  }
 },
 "nbformat": 4,
 "nbformat_minor": 5
}
